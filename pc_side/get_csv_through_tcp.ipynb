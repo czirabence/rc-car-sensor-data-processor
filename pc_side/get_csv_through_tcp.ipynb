{
 "cells": [
  {
   "cell_type": "markdown",
   "id": "4c45292b",
   "metadata": {},
   "source": [
    "Collect csv data received from esp32.\n",
    "Note: press ESC to stop data collection."
   ]
  },
  {
   "cell_type": "code",
   "execution_count": 3,
   "id": "9ace4bc0",
   "metadata": {},
   "outputs": [
    {
     "name": "stdout",
     "output_type": "stream",
     "text": [
      "Start receiving\n",
      "End receiving\n"
     ]
    }
   ],
   "source": [
    "import socket\n",
    "import threading  #signal keyPressed event\n",
    "from pynput import keyboard  #event listener\n",
    "\n",
    "keyPressed = threading.Event()\n",
    "\n",
    "#paste esp32 IP address here\n",
    "host = '192.168.100.3'\n",
    "port = 3333\n",
    "\n",
    "def on_press(key):\n",
    "    if key == keyboard.Key.esc:\n",
    "        keyPressed.set()\n",
    "    \n",
    "listener = keyboard.Listener(on_press=on_press)\n",
    "listener.start()\n",
    " \n",
    "with socket.socket(family=socket.AF_INET, ) as s, open('measurements.csv', 'w') as f:\n",
    "    s.connect((host, port))\n",
    "    print(\"Start receiving\")\n",
    "    while not keyPressed.is_set():\n",
    "        message = s.recv(256)\n",
    "        f.write(message.decode('ASCII'))\n",
    "    print(\"End receiving\")\n",
    "listener.stop()\n"
   ]
  },
  {
   "cell_type": "code",
   "execution_count": null,
   "id": "74f36781",
   "metadata": {},
   "outputs": [],
   "source": []
  }
 ],
 "metadata": {
  "kernelspec": {
   "display_name": "experimentalvenv",
   "language": "python",
   "name": "experimentalvenv"
  },
  "language_info": {
   "codemirror_mode": {
    "name": "ipython",
    "version": 3
   },
   "file_extension": ".py",
   "mimetype": "text/x-python",
   "name": "python",
   "nbconvert_exporter": "python",
   "pygments_lexer": "ipython3",
   "version": "3.10.6"
  }
 },
 "nbformat": 4,
 "nbformat_minor": 5
}
